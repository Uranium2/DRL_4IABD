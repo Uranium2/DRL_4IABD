{
 "cells": [
  {
   "cell_type": "code",
   "execution_count": 22,
   "metadata": {},
   "outputs": [],
   "source": [
    "from typing import Callable\n",
    "\n",
    "import numpy as np\n",
    "\n",
    "num_states = 7 # 7 cases\n",
    "S = np.arange(num_states)\n",
    "A = np.array([0, 1])  # 0: left, 1 : right\n",
    "T = np.array([0, num_states - 1]) # Terminal State ( position)\n",
    "P = np.zeros((len(S), len(A), len(S), 2))\n",
    "\n",
    "# P[s, 0, s - 1, 0] = faisabilité\n",
    "# P[s, 0, s - 1, 1] = reward\n",
    "\n",
    "for s in S[1:-1]: #  possible action\n",
    "    P[s, 0, s - 1, 0] = 1.0\n",
    "    P[s, 1, s + 1, 0] = 1.0\n",
    "P[1, 0, 0, 1] = -1.0\n",
    "P[num_states - 2, 1, num_states - 1, 1] = 1.0\n",
    "\n",
    "\n",
    "def reset() -> int:\n",
    "    return num_states // 2\n",
    "\n",
    "\n",
    "def is_terminal(state: int) -> bool:\n",
    "    return state in T\n",
    "\n",
    "\n",
    "def step(state: int, a: int) -> (int, float, bool):\n",
    "    assert (state not in T)\n",
    "    s_p = np.random.choice(S, p=P[state, a, :, 0]) # trouve ta position d'arrivée\n",
    "    r = P[state, a, s_p, 1] # recupere reward\n",
    "    return s_p, r, (s_p in T) # position, reward, si terminal"
   ]
  },
  {
   "cell_type": "code",
   "execution_count": 30,
   "metadata": {},
   "outputs": [],
   "source": [
    "def iterative_policy_evaluation(\n",
    "        S: np.ndarray,\n",
    "        A: np.ndarray,\n",
    "        P: np.ndarray,\n",
    "        T: np.ndarray,\n",
    "        Pi: np.ndarray,\n",
    "        gamma: float = 0.99,\n",
    "        theta: float = 0.000001, # accuracy\n",
    "        V: np.ndarray = None\n",
    ") -> np.ndarray:\n",
    "    assert 0 <= gamma <= 1\n",
    "    assert theta > 0\n",
    "\n",
    "    if V is None:\n",
    "        V = np.random.random((S.shape[0],))\n",
    "        V[T] = 0.0\n",
    "    while True:\n",
    "        delta = 0\n",
    "        for s in S:\n",
    "            v_temp = V[s]\n",
    "            tmp_sum = 0\n",
    "            for a in A:\n",
    "                for s_p in S: # proba x faisabilité x (reward + longterme x Value s')\n",
    "                    tmp_sum += Pi[s, a] * P[s, a, s_p, 0] * (\n",
    "                            P[s, a, s_p, 1] + gamma * V[s_p]\n",
    "                    )\n",
    "            V[s] = tmp_sum\n",
    "            delta = np.maximum(delta, np.abs(tmp_sum - v_temp))\n",
    "        if delta < theta:\n",
    "            break\n",
    "    return V"
   ]
  },
  {
   "cell_type": "code",
   "execution_count": 19,
   "metadata": {},
   "outputs": [],
   "source": [
    "def tabular_uniform_random_policy(space_size: int, action_size: int):\n",
    "    return np.ones((space_size, action_size)) / action_size"
   ]
  },
  {
   "cell_type": "code",
   "execution_count": 31,
   "metadata": {},
   "outputs": [
    {
     "name": "stdout",
     "output_type": "stream",
     "text": [
      "--- 0.00805354118347168 seconds ---\n",
      "[ 0.00000000e+00 -6.62272074e-01 -3.27823181e-01  2.22141125e-06\n",
      "  3.27827074e-01  6.62274402e-01  0.00000000e+00]\n"
     ]
    }
   ],
   "source": [
    "import time\n",
    "\n",
    "start_time = time.time()\n",
    "Pi = tabular_uniform_random_policy(S.shape[0], A.shape[0])\n",
    "V = iterative_policy_evaluation(S, A, P, T, Pi)\n",
    "print(\"--- %s seconds ---\" % (time.time() - start_time))\n",
    "print(V)"
   ]
  },
  {
   "cell_type": "code",
   "execution_count": 34,
   "metadata": {},
   "outputs": [
    {
     "name": "stdout",
     "output_type": "stream",
     "text": [
      "8.44212070472139e-06\n"
     ]
    }
   ],
   "source": [
    "print()"
   ]
  },
  {
   "cell_type": "code",
   "execution_count": 38,
   "metadata": {},
   "outputs": [
    {
     "name": "stdout",
     "output_type": "stream",
     "text": [
      "4\n",
      "5\n",
      "6\n"
     ]
    }
   ],
   "source": [
    "st = reset()\n",
    "V[0] = -1\n",
    "V[-1] = 1\n",
    "while (not is_terminal(st)):\n",
    "    if V[st + 1] > V[st - 1]:\n",
    "        a = 1\n",
    "    else:\n",
    "        a = 0\n",
    "    st, r, term = step(st, a)\n",
    "    print(st)"
   ]
  },
  {
   "cell_type": "code",
   "execution_count": null,
   "metadata": {},
   "outputs": [],
   "source": []
  }
 ],
 "metadata": {
  "kernelspec": {
   "display_name": "Python 3",
   "language": "python",
   "name": "python3"
  },
  "language_info": {
   "codemirror_mode": {
    "name": "ipython",
    "version": 3
   },
   "file_extension": ".py",
   "mimetype": "text/x-python",
   "name": "python",
   "nbconvert_exporter": "python",
   "pygments_lexer": "ipython3",
   "version": "3.7.7"
  }
 },
 "nbformat": 4,
 "nbformat_minor": 4
}
